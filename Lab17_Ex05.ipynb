{
 "cells": [
  {
   "cell_type": "markdown",
   "metadata": {},
   "source": [
    "# Lab 17 Exercise 5"
   ]
  },
  {
   "cell_type": "markdown",
   "metadata": {},
   "source": [
    "## Implement added interface"
   ]
  },
  {
   "cell_type": "markdown",
   "metadata": {},
   "source": [
    "1.สร้าง console application project\n",
    "\n",
    "```cmd\n",
    "dotnet new console --name Lab17_Ex05\n",
    "```"
   ]
  },
  {
   "cell_type": "markdown",
   "metadata": {},
   "source": [
    "2.เปลี่ยน code ให้เป็นดังต่อไปนี้\n",
    "\n",
    "```csharp\n",
    "Animal[] animals = new Animal[3];\n",
    "animals[0] = new Dog();\n",
    "animals[1] = new Bird();\n",
    "animals[2] = new Fish();\n",
    "\n",
    "foreach (var animal in animals)\n",
    "{\n",
    "    animal.Move();\n",
    "    animal.Speak();\n",
    "    System.Console.WriteLine(\"-------\");\n",
    "}\n",
    "\n",
    "interface IMovable\n",
    "{\n",
    "    public void Move();\n",
    "}\n",
    "interface ISpeakable\n",
    "{\n",
    "    public void Speak();\n",
    "}\n",
    "\n",
    "abstract class Animal : IMovable, ISpeakable\n",
    "{\n",
    "    abstract public void Move();\n",
    "    abstract public void Speak();\n",
    "}\n",
    "class Dog : Animal\n",
    "{\n",
    "    public override void Move()\n",
    "    {\n",
    "        System.Console.WriteLine(\"Dog move by running on the ground\");\n",
    "    }\n",
    "    public override void Speak()\n",
    "    {\n",
    "        System.Console.WriteLine(@\"Dog speak \"\"Bok Bok\"\"\");\n",
    "    }\n",
    "}\n",
    "class Fish : Animal\n",
    "{\n",
    "    public override void Move()\n",
    "    {\n",
    "        System.Console.WriteLine(\"Fish move by swimming in the water\");\n",
    "    }\n",
    "    public override void Speak()\n",
    "    {\n",
    "        System.Console.WriteLine(\"Fish can not speak\");\n",
    "    }\n",
    "}\n",
    "class Bird : Animal\n",
    "{\n",
    "    public override void Move()\n",
    "    {\n",
    "        System.Console.WriteLine(\"Bird move by flying in the air\");\n",
    "    }\n",
    "    public override void Speak()\n",
    "    {\n",
    "        System.Console.WriteLine(@\"Bird speak \"\"Jib Jib\"\"\");\n",
    "    }\n",
    "}\n",
    "\n",
    "```"
   ]
  },
  {
   "cell_type": "markdown",
   "metadata": {},
   "source": [
    "3.Build project โดยการใช้คำสั่ง\n",
    "\n",
    "```cmd\n",
    "dotnet build  Lab17_Ex05\n",
    "```\n",
    "\n",
    "ถ้ามีที่ผิดพลาดในโปรแกรม ให้แก้ไขให้ถูกต้อง"
   ]
  },
  {
   "cell_type": "code",
   "execution_count": 2,
   "metadata": {
    "polyglot_notebook": {
     "kernelName": "csharp"
    }
   },
   "outputs": [
    {
     "name": "stdout",
     "output_type": "stream",
     "text": [
      "Dog move by running on the ground\n",
      "Dog speak \"Bok Bok\"\n",
      "-------\n",
      "Bird move by flying in the air\n",
      "Bird speak \"Jib Jib\"\n",
      "-------\n",
      "Fish move by swimming in the water\n",
      "Fish can not speak\n",
      "-------\n"
     ]
    }
   ],
   "source": [
    "Animal[] animals = new Animal[3];\n",
    "animals[0] = new Dog();\n",
    "animals[1] = new Bird();\n",
    "animals[2] = new Fish();\n",
    "\n",
    "foreach (var animal in animals)\n",
    "{\n",
    "    animal.Move();\n",
    "    animal.Speak();\n",
    "    System.Console.WriteLine(\"-------\");\n",
    "}\n",
    "\n",
    "interface IMovable\n",
    "{\n",
    "    public void Move();\n",
    "}\n",
    "\n",
    "interface ISpeakable\n",
    "{\n",
    "    public void Speak();\n",
    "}\n",
    "\n",
    "abstract class Animal : IMovable, ISpeakable\n",
    "{\n",
    "    abstract public void Move();\n",
    "    abstract public void Speak();\n",
    "}\n",
    "\n",
    "class Dog : Animal\n",
    "{\n",
    "    public override void Move()\n",
    "    {\n",
    "        System.Console.WriteLine(\"Dog move by running on the ground\");\n",
    "    }\n",
    "\n",
    "    public override void Speak()\n",
    "    {\n",
    "        System.Console.WriteLine(@\"Dog speak \"\"Bok Bok\"\"\");\n",
    "    }\n",
    "}\n",
    "\n",
    "class Fish : Animal\n",
    "{\n",
    "    public override void Move()\n",
    "    {\n",
    "        System.Console.WriteLine(\"Fish move by swimming in the water\");\n",
    "    }\n",
    "\n",
    "    public override void Speak()\n",
    "    {\n",
    "        System.Console.WriteLine(\"Fish can not speak\");\n",
    "    }\n",
    "}\n",
    "\n",
    "class Bird : Animal\n",
    "{\n",
    "    public override void Move()\n",
    "    {\n",
    "        System.Console.WriteLine(\"Bird move by flying in the air\");\n",
    "    }\n",
    "\n",
    "    public override void Speak()\n",
    "    {\n",
    "        System.Console.WriteLine(@\"Bird speak \"\"Jib Jib\"\"\");\n",
    "    }\n",
    "}"
   ]
  },
  {
   "cell_type": "markdown",
   "metadata": {},
   "source": [
    "4.บันทึกผลที่ได้จากการรันคำสั่งในข้อ 3"
   ]
  },
  {
   "cell_type": "markdown",
   "metadata": {},
   "source": [
    "Restore complete (0.3s)\n",
    "  Lab17_Ex05 succeeded (0.4s) → Lab17_Ex05\\bin\\Debug\\net9.0\\Lab17_Ex05.dll\n",
    "\n",
    "Build succeeded in 1.2s"
   ]
  },
  {
   "cell_type": "markdown",
   "metadata": {},
   "source": [
    "5.Run project โดยการใช้คำสั่ง\n",
    "\n",
    "```cmd\n",
    "dotnet run --project Lab17_Ex05\n",
    "```"
   ]
  },
  {
   "cell_type": "markdown",
   "metadata": {},
   "source": [
    "6.บันทึกผลที่ได้จากการรันคำสั่งในข้อ 5"
   ]
  },
  {
   "cell_type": "markdown",
   "metadata": {},
   "source": [
    "Dog move by running on the ground\n",
    "Dog speak \"Bok Bok\"\n",
    "-------\n",
    "Bird move by flying in the air\n",
    "Bird speak \"Jib Jib\"\n",
    "-------\n",
    "Fish move by swimming in the water\n",
    "Fish can not speak\n",
    "-------"
   ]
  },
  {
   "cell_type": "markdown",
   "metadata": {},
   "source": [
    "7.อธิบายสิ่งที่พบในการทดลอง"
   ]
  }
 ],
 "metadata": {
  "kernelspec": {
   "display_name": ".NET (C#)",
   "language": "C#",
   "name": ".net-csharp"
  },
  "polyglot_notebook": {
   "kernelInfo": {
    "defaultKernelName": "csharp",
    "items": [
     {
      "aliases": [],
      "languageName": "csharp",
      "name": "csharp"
     }
    ]
   }
  }
 },
 "nbformat": 4,
 "nbformat_minor": 2
}
