{
 "cells": [
  {
   "cell_type": "markdown",
   "metadata": {},
   "source": [
    "# Lab 17 Exercise 6"
   ]
  },
  {
   "cell_type": "markdown",
   "metadata": {},
   "source": [
    "## Interface (Remote Control)"
   ]
  },
  {
   "cell_type": "markdown",
   "metadata": {},
   "source": [
    "1.สร้าง console application project\n",
    "\n",
    "```cmd\n",
    "dotnet new console --name Lab17_Ex06\n",
    "```"
   ]
  },
  {
   "cell_type": "markdown",
   "metadata": {},
   "source": [
    "2.เปลี่ยน code ให้เป็นดังต่อไปนี้\n",
    "\n",
    "```cs\n",
    "Television myTV = new SonyTV();\n",
    "myTV.Wattage = 100;\n",
    "myTV.TurnOn();\n",
    "myTV.ChannelUp();\n",
    "myTV.ChannelDown();\n",
    "myTV.TurnOff();\n",
    "\n",
    "Lamp myLamp = new DesktopLamp();\n",
    "myLamp.Wattage = 50;\n",
    "myLamp.TurnOn();\n",
    "myLamp.ChannelUp();\n",
    "myLamp.ChannelDown();\n",
    "myLamp.TurnOff();\n",
    "\n",
    "interface IRemoteControl\n",
    "{\n",
    "    public void TurnOn();\n",
    "    public void TurnOff();\n",
    "    public void ChannelUp();\n",
    "    public void ChannelDown();\n",
    "}\n",
    "abstract class PowerAppliance\n",
    "{\n",
    "    public bool PowerStatus;\n",
    "    public int Wattage;\n",
    "}\n",
    "class Television : PowerAppliance\n",
    "{\n",
    "    public int Channel { get; set; }\n",
    "}\n",
    "\n",
    "class Lamp : PowerAppliance\n",
    "{\n",
    "}\n",
    "\n",
    "\n",
    "class SonyTV : Television, IRemoteControl\n",
    "{\n",
    "    public void TurnOn() { System.Console.WriteLine(\"TV Turn on\"); PowerStatus = true; }\n",
    "    public void TurnOff() { System.Console.WriteLine(\"TV Turn off\"); PowerStatus = false; }\n",
    "    public void ChannelUp() { System.Console.WriteLine(\"TV Channel up\"); }\n",
    "    public void ChannelDown() { System.Console.WriteLine(\"TV Channel down\"); }\n",
    "}\n",
    "class DesktopLamp : Lamp, IRemoteControl\n",
    "{\n",
    "    public void TurnOn() { System.Console.WriteLine(\"Lamp Turn on\"); PowerStatus = true; }\n",
    "    public void TurnOff() { System.Console.WriteLine(\"Lamp Turn off\"); PowerStatus = false; }\n",
    "    public void ChannelUp() { System.Console.WriteLine(\"Lamp cannot change channel\"); }\n",
    "    public void ChannelDown() { System.Console.WriteLine(\"Lamp cannot change channel\"); }\n",
    "}\n",
    "```"
   ]
  },
  {
   "cell_type": "markdown",
   "metadata": {},
   "source": [
    "3.Build project โดยการใช้คำสั่ง\n",
    "\n",
    "```cmd\n",
    "dotnet build  Lab17_Ex06\n",
    "```\n",
    "\n",
    "ถ้ามีที่ผิดพลาดในโปรแกรม ให้แก้ไขให้ถูกต้อง"
   ]
  },
  {
   "cell_type": "code",
   "execution_count": 3,
   "metadata": {
    "polyglot_notebook": {
     "kernelName": "csharp"
    }
   },
   "outputs": [
    {
     "name": "stdout",
     "output_type": "stream",
     "text": [
      "Sony TV Turn on\n",
      "Sony TV Channel up\n",
      "Sony TV Channel down\n",
      "Sony TV Turn off\n",
      "Desktop Lamp Turn on\n",
      "Desktop Lamp Turn off\n"
     ]
    }
   ],
   "source": [
    "Television myTV = new SonyTV();\n",
    "myTV.Wattage = 100;\n",
    "myTV.TurnOn();\n",
    "myTV.ChannelUp();\n",
    "myTV.ChannelDown();\n",
    "myTV.TurnOff();\n",
    "\n",
    "Lamp myLamp = new DesktopLamp();\n",
    "myLamp.Wattage = 50;\n",
    "myLamp.TurnOn();\n",
    "myLamp.TurnOff(); // Removed ChannelUp() and ChannelDown()\n",
    "\n",
    "interface IRemoteControl\n",
    "{\n",
    "    public void TurnOn();\n",
    "    public void TurnOff();\n",
    "    public void ChannelUp();\n",
    "    public void ChannelDown();\n",
    "}\n",
    "\n",
    "abstract class PowerAppliance\n",
    "{\n",
    "    public bool PowerStatus;\n",
    "    public int Wattage;\n",
    "}\n",
    "\n",
    "class Television : PowerAppliance, IRemoteControl // Added IRemoteControl\n",
    "{\n",
    "    public int Channel { get; set; }\n",
    "\n",
    "    public virtual void TurnOn() { System.Console.WriteLine(\"Generic TV Turn on\"); PowerStatus = true; }\n",
    "    public virtual void TurnOff() { System.Console.WriteLine(\"Generic TV Turn off\"); PowerStatus = false; }\n",
    "    public virtual void ChannelUp() { System.Console.WriteLine(\"Generic TV Channel up\"); }\n",
    "    public virtual void ChannelDown() { System.Console.WriteLine(\"Generic TV Channel down\"); }\n",
    "}\n",
    "\n",
    "class Lamp : PowerAppliance, IRemoteControl // Added IRemoteControl\n",
    "{\n",
    "    public virtual void TurnOn() { System.Console.WriteLine(\"Generic Lamp Turn on\"); PowerStatus = true; }\n",
    "    public virtual void TurnOff() { System.Console.WriteLine(\"Generic Lamp Turn off\"); PowerStatus = false; }\n",
    "    public virtual void ChannelUp() { System.Console.WriteLine(\"Lamp cannot change channel\"); }\n",
    "    public virtual void ChannelDown() { System.Console.WriteLine(\"Lamp cannot change channel\"); }\n",
    "}\n",
    "\n",
    "class SonyTV : Television\n",
    "{\n",
    "    public override void TurnOn() { System.Console.WriteLine(\"Sony TV Turn on\"); PowerStatus = true; }\n",
    "    public override void TurnOff() { System.Console.WriteLine(\"Sony TV Turn off\"); PowerStatus = false; }\n",
    "    public override void ChannelUp() { System.Console.WriteLine(\"Sony TV Channel up\"); }\n",
    "    public override void ChannelDown() { System.Console.WriteLine(\"Sony TV Channel down\"); }\n",
    "}\n",
    "\n",
    "class DesktopLamp : Lamp\n",
    "{\n",
    "    public override void TurnOn() { System.Console.WriteLine(\"Desktop Lamp Turn on\"); PowerStatus = true; }\n",
    "    public override void TurnOff() { System.Console.WriteLine(\"Desktop Lamp Turn off\"); PowerStatus = false; }\n",
    "}"
   ]
  },
  {
   "cell_type": "markdown",
   "metadata": {},
   "source": [
    "4.บันทึกผลที่ได้จากการรันคำสั่งในข้อ 3"
   ]
  },
  {
   "cell_type": "markdown",
   "metadata": {},
   "source": [
    "Restore complete (0.3s)\n",
    "  Lab17_Ex06 succeeded (0.4s) → Lab17_Ex06\\bin\\Debug\\net9.0\\Lab17_Ex06.dll\n",
    "\n",
    "Build succeeded in 1.3s"
   ]
  },
  {
   "cell_type": "markdown",
   "metadata": {},
   "source": [
    "5.Run project โดยการใช้คำสั่ง\n",
    "\n",
    "```cmd\n",
    "dotnet run --project Lab17_Ex06\n",
    "```"
   ]
  },
  {
   "cell_type": "markdown",
   "metadata": {},
   "source": [
    "6.บันทึกผลที่ได้จากการรันคำสั่งในข้อ 5"
   ]
  },
  {
   "cell_type": "markdown",
   "metadata": {},
   "source": [
    "Sony TV Turn on\n",
    "Sony TV Channel up\n",
    "Sony TV Channel down\n",
    "Sony TV Turn off\n",
    "Desktop Lamp Turn on\n",
    "Desktop Lamp Turn off"
   ]
  },
  {
   "cell_type": "markdown",
   "metadata": {},
   "source": [
    "7.อธิบายสิ่งที่พบในการทดลอง"
   ]
  }
 ],
 "metadata": {
  "kernelspec": {
   "display_name": ".NET (C#)",
   "language": "C#",
   "name": ".net-csharp"
  },
  "polyglot_notebook": {
   "kernelInfo": {
    "defaultKernelName": "csharp",
    "items": [
     {
      "aliases": [],
      "languageName": "csharp",
      "name": "csharp"
     }
    ]
   }
  }
 },
 "nbformat": 4,
 "nbformat_minor": 2
}
